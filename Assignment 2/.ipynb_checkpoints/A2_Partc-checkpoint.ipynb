{
 "cells": [
  {
   "cell_type": "code",
   "execution_count": 23,
   "metadata": {},
   "outputs": [],
   "source": [
    "import numpy as np\n",
    "import graphviz\n",
    "from sklearn.metrics import confusion_matrix\n",
    "from sklearn.tree import export_graphviz\n",
    "from subprocess import call\n",
    "from fromAsma import *\n",
    "\n",
    "\n",
    "import os\n",
    "os.environ[\"PATH\"] += os.pathsep + 'C:/Users/anu07/graphviz-2.38/release/bin'"
   ]
  },
  {
   "cell_type": "code",
   "execution_count": 24,
   "metadata": {},
   "outputs": [],
   "source": [
    "#Load the train data\n",
    "M = np.genfromtxt('./monks-1.train', missing_values=0, skip_header=0, delimiter=',', dtype=int)\n",
    "ytrn = M[:, 0]\n",
    "Xtrn = M[:, 1:]\n",
    "\n",
    "# Load the test data\n",
    "N = np.genfromtxt('./monks-1.test', missing_values=0, skip_header=0, delimiter=',', dtype=int)\n",
    "ytst = N[:, 0]\n",
    "Xtst = N[:, 1:]"
   ]
  },
  {
   "cell_type": "code",
   "execution_count": 25,
   "metadata": {},
   "outputs": [],
   "source": [
    "depths=[i for i in range(1,6,2)]"
   ]
  },
  {
   "cell_type": "code",
   "execution_count": 29,
   "metadata": {},
   "outputs": [],
   "source": [
    "avpairs = []\n",
    "for i in range(Xtrn.shape[1]):\n",
    "    set_values = set()\n",
    "    for j in Xtrn[:,i]:\n",
    "        if j not in set_values:\n",
    "            set_values.add(j)\n",
    "            avpairs.append((i,j))"
   ]
  },
  {
   "cell_type": "code",
   "execution_count": 30,
   "metadata": {},
   "outputs": [
    {
     "name": "stdout",
     "output_type": "stream",
     "text": [
      "Confusion matrix for depth 5\n",
      "[[192  24]\n",
      " [ 12 204]]\n"
     ]
    }
   ],
   "source": [
    "for i in [5]:\n",
    "    tree = id3(Xtrn, ytrn, avpairs, max_depth=i)\n",
    "    y_dt=np.array([predict_example(x,tree) for x in Xtst])\n",
    "    print('Confusion matrix for depth {}'.format(i))\n",
    "    print(confusion_matrix(ytst, y_dt))\n",
    "    dot_str = to_graphviz(tree)\n",
    "    render_dot_file(dot_str, './my_learned_tree_depth{}'.format(i))    "
   ]
  },
  {
   "cell_type": "code",
   "execution_count": null,
   "metadata": {},
   "outputs": [],
   "source": []
  }
 ],
 "metadata": {
  "kernelspec": {
   "display_name": "Python 3",
   "language": "python",
   "name": "python3"
  },
  "language_info": {
   "codemirror_mode": {
    "name": "ipython",
    "version": 3
   },
   "file_extension": ".py",
   "mimetype": "text/x-python",
   "name": "python",
   "nbconvert_exporter": "python",
   "pygments_lexer": "ipython3",
   "version": "3.7.0"
  }
 },
 "nbformat": 4,
 "nbformat_minor": 2
}
