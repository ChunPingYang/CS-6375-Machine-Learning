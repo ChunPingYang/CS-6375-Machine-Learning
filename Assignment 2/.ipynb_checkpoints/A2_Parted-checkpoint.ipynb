{
 "cells": [
  {
   "cell_type": "markdown",
   "metadata": {},
   "source": [
    "## Part d) of Assignment 2\n",
    "### scikit-learn’s DecisionTreeClassifier to learn a decision tree using criterion=’entropy’ for depth = 1, 3, 5. "
   ]
  },
  {
   "cell_type": "code",
   "execution_count": 81,
   "metadata": {},
   "outputs": [],
   "source": [
    "from sklearn.tree import DecisionTreeClassifier\n",
    "import numpy as np\n",
    "from sklearn import tree\n",
    "from sklearn.metrics import confusion_matrix\n",
    "from sklearn.tree import export_graphviz\n",
    "from subprocess import call\n",
    "\n",
    "import os\n",
    "os.environ[\"PATH\"] += os.pathsep + 'C:/Users/anu07/graphviz-2.38/release/bin'"
   ]
  },
  {
   "cell_type": "code",
   "execution_count": 82,
   "metadata": {},
   "outputs": [],
   "source": [
    "# Load the training data\n",
    "M = np.genfromtxt('./monks-1.train', missing_values=0, skip_header=0, delimiter=',', dtype=int)\n",
    "ytrn = M[:, 0]\n",
    "Xtrn = M[:, 1:]\n",
    "# Load the test data\n",
    "M = np.genfromtxt('./monks-1.test', missing_values=0, skip_header=0, delimiter=',', dtype=int)\n",
    "ytst = M[:, 0]\n",
    "Xtst = M[:, 1:]"
   ]
  },
  {
   "cell_type": "code",
   "execution_count": 83,
   "metadata": {},
   "outputs": [],
   "source": [
    "def compute_error(y_true, y_pred):\n",
    "    \"\"\"\n",
    "    Computes the average error between the true labels (y_true) and the predicted labels (y_pred)\n",
    "\n",
    "    Returns the error = (1/n) * sum(y_true != y_pred)\n",
    "    \"\"\"\n",
    "    # INSERT YOUR CODE HERE\n",
    "    return (1/len(y_true)) * sum(y_true != y_pred)\n"
   ]
  },
  {
   "cell_type": "markdown",
   "metadata": {},
   "source": [
    "### depth = 1"
   ]
  },
  {
   "cell_type": "code",
   "execution_count": 84,
   "metadata": {},
   "outputs": [
    {
     "data": {
      "text/plain": [
       "array([[216,   0],\n",
       "       [108, 108]], dtype=int64)"
      ]
     },
     "execution_count": 84,
     "metadata": {},
     "output_type": "execute_result"
    }
   ],
   "source": [
    "decision_tree_1 = DecisionTreeClassifier(criterion='entropy', max_depth=1)\n",
    "decision_tree_1 = decision_tree_1.fit(Xtrn, ytrn)\n",
    "y_dt_1=decision_tree_1.predict(Xtst)\n",
    "err_1=compute_error(ytst,y_dt_1)\n",
    "confusion_matrix(ytst, y_dt_1)"
   ]
  },
  {
   "cell_type": "code",
   "execution_count": 85,
   "metadata": {},
   "outputs": [
    {
     "data": {
      "text/plain": [
       "0"
      ]
     },
     "execution_count": 85,
     "metadata": {},
     "output_type": "execute_result"
    }
   ],
   "source": [
    "export_graphviz(decision_tree_1,out_file =\"myTreeName_1.dot\",filled=True,rounded=True)\n",
    "call(['dot', '-T', 'png', 'myTreeName_1.dot', '-o', 'myTreeName_1.png'])"
   ]
  },
  {
   "cell_type": "markdown",
   "metadata": {},
   "source": [
    "### depth = 3"
   ]
  },
  {
   "cell_type": "code",
   "execution_count": 88,
   "metadata": {},
   "outputs": [
    {
     "data": {
      "text/plain": [
       "array([[144,  72],\n",
       "       [  0, 216]], dtype=int64)"
      ]
     },
     "execution_count": 88,
     "metadata": {},
     "output_type": "execute_result"
    }
   ],
   "source": [
    "decision_tree_3 = DecisionTreeClassifier(criterion='entropy', max_depth=3)\n",
    "decision_tree_3 = decision_tree_3.fit(Xtrn, ytrn)\n",
    "y_dt_3=decision_tree_3.predict(Xtst)\n",
    "err_3=compute_error(ytst,y_dt_3)\n",
    "confusion_matrix(ytst, y_dt_3)"
   ]
  },
  {
   "cell_type": "code",
   "execution_count": 89,
   "metadata": {},
   "outputs": [
    {
     "data": {
      "text/plain": [
       "0"
      ]
     },
     "execution_count": 89,
     "metadata": {},
     "output_type": "execute_result"
    }
   ],
   "source": [
    "export_graphviz(decision_tree_3,out_file =\"myTreeName_3.dot\",filled=True,rounded=True)\n",
    "call(['dot', '-T', 'png', 'myTreeName_3.dot', '-o', 'myTreeName_3.png'])"
   ]
  },
  {
   "cell_type": "markdown",
   "metadata": {},
   "source": [
    "### depth = 5"
   ]
  },
  {
   "cell_type": "code",
   "execution_count": 90,
   "metadata": {},
   "outputs": [
    {
     "data": {
      "text/plain": [
       "array([[168,  48],\n",
       "       [ 24, 192]], dtype=int64)"
      ]
     },
     "execution_count": 90,
     "metadata": {},
     "output_type": "execute_result"
    }
   ],
   "source": [
    "decision_tree_5 = DecisionTreeClassifier(criterion='entropy', max_depth=5)\n",
    "decision_tree_5 = decision_tree_5.fit(Xtrn, ytrn)\n",
    "y_dt_5=decision_tree_5.predict(Xtst)\n",
    "err_5=compute_error(ytst,y_dt_5)\n",
    "confusion_matrix(ytst, y_dt_5)"
   ]
  },
  {
   "cell_type": "code",
   "execution_count": 91,
   "metadata": {},
   "outputs": [
    {
     "data": {
      "text/plain": [
       "0"
      ]
     },
     "execution_count": 91,
     "metadata": {},
     "output_type": "execute_result"
    }
   ],
   "source": [
    "export_graphviz(decision_tree_5,out_file =\"myTreeName_5.dot\",filled=True,rounded=True)\n",
    "call(['dot', '-T', 'png', 'myTreeName_5.dot', '-o', 'myTreeName_5.png'])"
   ]
  },
  {
   "cell_type": "code",
   "execution_count": 92,
   "metadata": {},
   "outputs": [
    {
     "name": "stdout",
     "output_type": "stream",
     "text": [
      "0.25\n",
      "0.16666666666666666\n",
      "0.16666666666666666\n"
     ]
    }
   ],
   "source": [
    "print(err_1)\n",
    "print(err_3)\n",
    "print(err_5)"
   ]
  },
  {
   "cell_type": "markdown",
   "metadata": {},
   "source": [
    "### Part e of assignment 2 with IRIS dataset from the UCI repository"
   ]
  },
  {
   "cell_type": "code",
   "execution_count": null,
   "metadata": {},
   "outputs": [],
   "source": []
  }
 ],
 "metadata": {
  "kernelspec": {
   "display_name": "Python 3",
   "language": "python",
   "name": "python3"
  },
  "language_info": {
   "codemirror_mode": {
    "name": "ipython",
    "version": 3
   },
   "file_extension": ".py",
   "mimetype": "text/x-python",
   "name": "python",
   "nbconvert_exporter": "python",
   "pygments_lexer": "ipython3",
   "version": "3.7.0"
  }
 },
 "nbformat": 4,
 "nbformat_minor": 2
}
