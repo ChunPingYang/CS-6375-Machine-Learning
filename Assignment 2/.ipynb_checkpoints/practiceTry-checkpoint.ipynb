{
 "cells": [
  {
   "cell_type": "code",
   "execution_count": 225,
   "metadata": {},
   "outputs": [],
   "source": [
    "import numpy as np"
   ]
  },
  {
   "cell_type": "code",
   "execution_count": 226,
   "metadata": {},
   "outputs": [],
   "source": [
    "# Load the training data\n",
    "M = np.genfromtxt('./monks-1.train', missing_values=0, skip_header=0, delimiter=',', dtype=int)\n",
    "ytrn = M[:, 0]\n",
    "Xtrn = M[:, 1:]\n",
    "# Load the test data\n",
    "M = np.genfromtxt('./monks-1.test', missing_values=0, skip_header=0, delimiter=',', dtype=int)\n",
    "ytst = M[:, 0]\n",
    "Xtst = M[:, 1:]"
   ]
  },
  {
   "cell_type": "code",
   "execution_count": 227,
   "metadata": {},
   "outputs": [],
   "source": [
    "def partition(a):\n",
    "    return {c: (a==c).nonzero()[0] for c in np.unique(a)}"
   ]
  },
  {
   "cell_type": "code",
   "execution_count": 228,
   "metadata": {},
   "outputs": [],
   "source": [
    "def entropy(s):\n",
    "    res = 0\n",
    "    val, counts = np.unique(s, return_counts=True)\n",
    "    freqs = counts.astype('float')/len(s)\n",
    "    for p in freqs:\n",
    "        if p != 0.0:\n",
    "            res -= p * np.log2(p)\n",
    "    return res"
   ]
  },
  {
   "cell_type": "code",
   "execution_count": 229,
   "metadata": {},
   "outputs": [],
   "source": [
    "def mutual_information(y, x):\n",
    "\n",
    "    res = entropy(y)\n",
    "\n",
    "    # We partition x, according to attribute values x_i\n",
    "    val, counts = np.unique(x, return_counts=True)\n",
    "    freqs = counts.astype('float')/len(x)\n",
    "\n",
    "    # We calculate a weighted average of the entropy\n",
    "    for p, v in zip(freqs, val):\n",
    "        res -= p * entropy(y[x == v])\n",
    "\n",
    "    return res"
   ]
  },
  {
   "cell_type": "code",
   "execution_count": 230,
   "metadata": {},
   "outputs": [],
   "source": [
    "attribute_labels= [val for val in range(1, Xtrn.shape[1]+1)]\n",
    "attribute_value_pair_list=[]\n",
    "for i in attribute_labels:\n",
    "    attribute_values=[val for val in np.unique(Xtrn[:,i-1])]\n",
    "    for j in attribute_values:\n",
    "        attribute_value_pair_list.append([i,j])"
   ]
  },
  {
   "cell_type": "code",
   "execution_count": 262,
   "metadata": {},
   "outputs": [],
   "source": [
    "def find_best_attribute(Xtrn,ytrn,attribute_value_pair_list):\n",
    "    entropy_parent = entropy(ytrn)\n",
    "    count=0\n",
    "    for pair in attribute_value_pair_list:\n",
    "        #print(pair)\n",
    "        index=pair[0]-1 #label of the attribute\n",
    "        vall=pair[1] #value of the attribute\n",
    "        part=partition(Xtrn[:,index])\n",
    "        count_left=0\n",
    "        for i in part[vall]:\n",
    "            count_left += 1\n",
    "        y_sample_left=ytrn.take(part[vall], axis=0)\n",
    "        temp=[]\n",
    "        for key,value in part.items():\n",
    "            if(key != index):\n",
    "                for val in value:\n",
    "                    temp.append(val)\n",
    "        y_sample_right=ytrn.take(temp,axis=0)\n",
    "        #count_left = len(part[value]) #no of rows for atrribute x==a\n",
    "        count_right = len(temp) #no of rows for atrribute x!=a\n",
    "        entropy_left=entropy(y_sample_left)\n",
    "        entropy_right=entropy(y_sample_right)\n",
    "        total_examples=count_left+count_right\n",
    "        weight_left = count_left / total_examples\n",
    "        weight_right = count_right / total_examples\n",
    "        average_entropy_children = (weight_left*entropy_left)+(weight_right*entropy_right)\n",
    "        information_gain = entropy_parent - average_entropy_children \n",
    "        #print(information_gain)\n",
    "        count = count + 1\n",
    "        if count > 1:\n",
    "            if information_gain > max_information_gain:\n",
    "                selected_pair=pair\n",
    "                selected_attribute = index+1\n",
    "                selected_attr_value= vall\n",
    "                max_information_gain = information_gain\n",
    "        else:\n",
    "                selected_pair=pair\n",
    "                selected_attribute = index+1\n",
    "                selected_attr_value= vall\n",
    "                max_information_gain = information_gain\n",
    "    #print(selected_attribute)\n",
    "    #print(selected_attr_value)\n",
    "    \n",
    "    return (selected_pair)"
   ]
  },
  {
   "cell_type": "code",
   "execution_count": 288,
   "metadata": {},
   "outputs": [
    {
     "data": {
      "text/plain": [
       "124"
      ]
     },
     "execution_count": 288,
     "metadata": {},
     "output_type": "execute_result"
    }
   ],
   "source": [
    "Xtrn.shape[0]"
   ]
  },
  {
   "cell_type": "code",
   "execution_count": 289,
   "metadata": {},
   "outputs": [],
   "source": [
    "def find_example_subset(Xtrn,selected_pair):\n",
    "    Xtrn_new=[]\n",
    "    for i in range(Xtrn.shape[0]):\n",
    "        #print(type(Xtrn[i,selected_pair[0]-1]))\n",
    "        #print(type(selected_pair[1]))\n",
    "        if Xtrn[i,selected_pair[0]-1] == selected_pair[1]:\n",
    "            Xtrn_new.append(Xtrn[i,:])\n",
    "    return Xtrn_new\n",
    "\n",
    "#finding the size of example subset\n",
    "def find_size_example_subset(x):\n",
    "    size_subset = x.shape[0]\n",
    "    return size_subset"
   ]
  },
  {
   "cell_type": "code",
   "execution_count": 290,
   "metadata": {},
   "outputs": [],
   "source": [
    "attr=find_best_attribute(Xtrn,ytrn,attribute_value_pair_list)"
   ]
  },
  {
   "cell_type": "code",
   "execution_count": 291,
   "metadata": {},
   "outputs": [
    {
     "name": "stdout",
     "output_type": "stream",
     "text": [
      "[1 1 2 3 1 2]\n",
      "[1 2 1 1 1 2]\n",
      "[1 2 1 2 1 1]\n",
      "[1 3 1 3 1 2]\n",
      "[1 3 2 2 1 2]\n",
      "[1 3 2 3 1 1]\n",
      "[2 1 1 2 1 1]\n",
      "[2 1 1 2 1 2]\n",
      "[2 2 1 3 1 1]\n",
      "[2 2 1 3 1 2]\n",
      "[2 2 2 1 1 1]\n",
      "[2 3 1 1 1 1]\n",
      "[2 3 1 2 1 1]\n",
      "[2 3 1 3 1 2]\n",
      "[2 3 2 2 1 1]\n",
      "[2 3 2 2 1 2]\n",
      "[3 1 1 1 1 1]\n",
      "[3 1 1 1 1 2]\n",
      "[3 1 1 2 1 1]\n",
      "[3 1 2 1 1 1]\n",
      "[3 2 1 1 1 1]\n",
      "[3 2 1 2 1 2]\n",
      "[3 2 2 1 1 1]\n",
      "[3 2 2 1 1 2]\n",
      "[3 2 2 3 1 1]\n",
      "[3 3 1 1 1 1]\n",
      "[3 3 1 3 1 2]\n",
      "[3 3 2 1 1 1]\n",
      "[3 3 2 3 1 2]\n"
     ]
    },
    {
     "data": {
      "text/plain": [
       "[]"
      ]
     },
     "execution_count": 291,
     "metadata": {},
     "output_type": "execute_result"
    }
   ],
   "source": [
    "a=find_example_subset(Xtrn,attr)\n",
    "a"
   ]
  },
  {
   "cell_type": "code",
   "execution_count": 242,
   "metadata": {},
   "outputs": [
    {
     "ename": "IndentationError",
     "evalue": "expected an indented block (<ipython-input-242-f1f4328af0e0>, line 3)",
     "output_type": "error",
     "traceback": [
      "\u001b[1;36m  File \u001b[1;32m\"<ipython-input-242-f1f4328af0e0>\"\u001b[1;36m, line \u001b[1;32m3\u001b[0m\n\u001b[1;33m    a=id3(Xtrn,ytrn)\u001b[0m\n\u001b[1;37m    ^\u001b[0m\n\u001b[1;31mIndentationError\u001b[0m\u001b[1;31m:\u001b[0m expected an indented block\n"
     ]
    }
   ],
   "source": [
    "def id3(x, y, attribute_value_pairs=attribute_value_pair_list, depth=0, max_depth=5):\n",
    "\n",
    "a=id3(Xtrn,ytrn)"
   ]
  },
  {
   "cell_type": "code",
   "execution_count": 220,
   "metadata": {},
   "outputs": [
    {
     "data": {
      "text/plain": [
       "[5, 1]"
      ]
     },
     "execution_count": 220,
     "metadata": {},
     "output_type": "execute_result"
    }
   ],
   "source": [
    "b=find_size_example_subset(a)"
   ]
  },
  {
   "cell_type": "code",
   "execution_count": null,
   "metadata": {},
   "outputs": [],
   "source": [
    "gain = np.array([mutual_information(ytrn, x_attr) for x_attr in Xtrn.T])\n",
    "selected_attr_label = np.argmax(gain)+1\n",
    "#selected_attr_label"
   ]
  },
  {
   "cell_type": "code",
   "execution_count": 73,
   "metadata": {},
   "outputs": [
    {
     "data": {
      "text/plain": [
       "dict_items([(1, array([  8,   9,  13,  30,  36,  41,  47,  48,  65,  66,  70,  76,  77,\n",
       "        79,  83,  84,  87,  88,  89,  92,  97,  99, 101, 102, 104, 107,\n",
       "       112, 116, 120], dtype=int64)), (2, array([  2,   4,   5,  10,  17,  19,  23,  26,  28,  31,  35,  37,  42,\n",
       "        49,  54,  59,  61,  62,  67,  74,  85,  90,  91,  93,  94,  96,\n",
       "       105, 108, 113, 114, 121], dtype=int64)), (3, array([  0,   1,   3,   6,  11,  14,  15,  20,  24,  25,  32,  38,  45,\n",
       "        46,  50,  55,  57,  63,  64,  68,  71,  78,  80,  82,  86,  95,\n",
       "       103, 110, 117, 122], dtype=int64)), (4, array([  7,  12,  16,  18,  21,  22,  27,  29,  33,  34,  39,  40,  43,\n",
       "        44,  51,  52,  53,  56,  58,  60,  69,  72,  73,  75,  81,  98,\n",
       "       100, 106, 109, 111, 115, 118, 119, 123], dtype=int64))])"
      ]
     },
     "execution_count": 73,
     "metadata": {},
     "output_type": "execute_result"
    }
   ],
   "source": [
    "sets = partition(Xtrn[:, selected_attr_label-1])\n",
    "sets.items()"
   ]
  },
  {
   "cell_type": "code",
   "execution_count": 74,
   "metadata": {},
   "outputs": [
    {
     "name": "stdout",
     "output_type": "stream",
     "text": [
      "1\n",
      "[1 1 1 1 1 1 1 1 1 1 1 1 1 1 1 1 1 1 1 1 1 1 1 1 1 1 1 1 1]\n",
      "2\n",
      "[1 1 1 0 0 0 0 0 0 0 0 0 0 0 0 0 1 1 1 1 0 0 0 0 0 0 0 1 1 1 1]\n",
      "3\n",
      "[1 1 1 1 0 0 0 0 0 0 0 0 0 0 0 0 0 1 1 1 1 0 0 0 0 0 0 1 1 1]\n",
      "4\n",
      "[1 0 0 0 0 0 0 0 0 0 0 0 0 0 0 0 0 0 0 0 1 1 1 1 0 0 0 0 1 1 1 1 1 1]\n"
     ]
    }
   ],
   "source": [
    "res = {}\n",
    "#impurity={}\n",
    "for k, v in sets.items():\n",
    "    y_subset = ytrn.take(v, axis=0)\n",
    "    print(k)\n",
    "    print(y_subset)\n",
    "    #impurity[k]=entropy(y_subset)\n",
    "    #x_subset = Xtrn.take(v, axis=0)\n",
    "    #res[\"x_%d = %d\" % (selected_attr, k)] = recursive_split(x_subset, y_subset)\n",
    "\n",
    "#return res"
   ]
  },
  {
   "cell_type": "code",
   "execution_count": null,
   "metadata": {},
   "outputs": [],
   "source": []
  },
  {
   "cell_type": "code",
   "execution_count": null,
   "metadata": {},
   "outputs": [],
   "source": []
  }
 ],
 "metadata": {
  "kernelspec": {
   "display_name": "Python 3",
   "language": "python",
   "name": "python3"
  },
  "language_info": {
   "codemirror_mode": {
    "name": "ipython",
    "version": 3
   },
   "file_extension": ".py",
   "mimetype": "text/x-python",
   "name": "python",
   "nbconvert_exporter": "python",
   "pygments_lexer": "ipython3",
   "version": "3.7.0"
  }
 },
 "nbformat": 4,
 "nbformat_minor": 2
}
