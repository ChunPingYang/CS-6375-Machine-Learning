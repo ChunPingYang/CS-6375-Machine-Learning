{
 "cells": [
  {
   "cell_type": "code",
   "execution_count": 1,
   "metadata": {},
   "outputs": [
    {
     "name": "stdout",
     "output_type": "stream",
     "text": [
      "14\n",
      "14\n",
      "14\n",
      "14\n",
      "14\n"
     ]
    }
   ],
   "source": [
    "o=['sunny','sunny','overcast','rain','rain','rain','overcast','sunny','sunny','rain','sunny','overcast','overcast','rain']\n",
    "print(len(o))\n",
    "t=['Hot','Hot','Hot','Mild','Cool','Cool','Cool','Mild','Cool','Mild','Mild','Mild','Hot','Mild']\n",
    "print(len(t))\n",
    "h=['High','High','High','High','Normal','Normal','Normal','High','Normal','Normal','Normal','High','Normal','High']\n",
    "print(len(h))\n",
    "w=['Weak','Strong','Weak','Weak','Weak','Strong','Strong','Weak','Weak','Weak','Strong','Strong','Weak','Strong']\n",
    "print(len(w))\n",
    "p=['No','No','Yes','Yes','Yes','No','Yes','No','Yes','Yes','Yes','Yes','Yes','No']\n",
    "print(len(p))"
   ]
  },
  {
   "cell_type": "code",
   "execution_count": 2,
   "metadata": {},
   "outputs": [],
   "source": [
    "def partition(y):\n",
    "    count={}\n",
    "    for idx,val in enumerate(y):\n",
    "        if not val in count:\n",
    "            count[val] = [idx]\n",
    "        else:\n",
    "            count[val].append(idx)\n",
    "    return count"
   ]
  },
  {
   "cell_type": "code",
   "execution_count": 3,
   "metadata": {},
   "outputs": [],
   "source": [
    "import math\n",
    "def entropy(y):\n",
    "    entrpy=0\n",
    "    diff_values=partition(y)\n",
    "    #print(diff_values)\n",
    "    for key,value in diff_values.items():\n",
    "           entrpy += -1*(len(value)/len(y))*math.log((len(value)/len(y)), 2)\n",
    "    return entrpy"
   ]
  },
  {
   "cell_type": "code",
   "execution_count": 4,
   "metadata": {},
   "outputs": [],
   "source": [
    "def mutual_information(x, y):\n",
    "    h_y=entropy(y) \n",
    "    #print(h_y)\n",
    "    x_partition=partition(x) # gives dictionary of unique values of x\n",
    "    #print(x_partition)\n",
    "    #print (x_partition)\n",
    "    entrpy_m=0\n",
    "    for key,value in x_partition.items():\n",
    "        y_temp=[]\n",
    "        for i in value:\n",
    "            y_temp.append(y[int(i)])\n",
    "        #print(y_temp)\n",
    "        entrpy_m += (len(y_temp)/len(y))*(entropy(y_temp))\n",
    "    return h_y-entrpy_m\n"
   ]
  },
  {
   "cell_type": "code",
   "execution_count": 8,
   "metadata": {},
   "outputs": [],
   "source": [
    "def findBestAttribute(data):\n",
    "    maxInfoGain = -1.0\n",
    "    for x in data.columns:\n",
    "        if x == 'Class':\n",
    "            continue\n",
    "        currentInfoGain = mutual_information(data[[x, 'Class']],y)\n",
    "        if maxInfoGain < currentInfoGain:\n",
    "            maxInfoGain = currentInfoGain\n",
    "    return bestAttribute"
   ]
  },
  {
   "cell_type": "code",
   "execution_count": null,
   "metadata": {},
   "outputs": [],
   "source": [
    "### Task 1\n",
    "Find al attribute-valu pairs for given data\n",
    "\n",
    "        \n"
   ]
  }
 ],
 "metadata": {
  "kernelspec": {
   "display_name": "Python 3",
   "language": "python",
   "name": "python3"
  },
  "language_info": {
   "codemirror_mode": {
    "name": "ipython",
    "version": 3
   },
   "file_extension": ".py",
   "mimetype": "text/x-python",
   "name": "python",
   "nbconvert_exporter": "python",
   "pygments_lexer": "ipython3",
   "version": "3.7.0"
  }
 },
 "nbformat": 4,
 "nbformat_minor": 2
}
